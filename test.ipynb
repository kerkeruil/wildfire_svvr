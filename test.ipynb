{
 "cells": [
  {
   "cell_type": "markdown",
   "metadata": {},
   "source": [
    "### Imports"
   ]
  },
  {
   "cell_type": "code",
   "execution_count": 5,
   "metadata": {},
   "outputs": [],
   "source": [
    "import vtk\n",
    "import numpy as np\n",
    "from utils import vtkArray2vtkImageData\n"
   ]
  },
  {
   "cell_type": "markdown",
   "metadata": {},
   "source": [
    "### Read in file"
   ]
  },
  {
   "cell_type": "code",
   "execution_count": 2,
   "metadata": {},
   "outputs": [],
   "source": [
    "reader = vtk.vtkXMLStructuredGridReader()\n",
    "reader.SetFileName(\"data/output.1000.vts\")\n",
    "reader.Update()\n",
    "dataset = reader.GetOutput()\n"
   ]
  },
  {
   "cell_type": "code",
   "execution_count": 3,
   "metadata": {},
   "outputs": [],
   "source": [
    "# ----------- Global Variables ------------\n",
    "bounds = np.array(dataset.GetBounds()) \n",
    "extent = np.array(dataset.GetExtent())\n",
    "resampledOrigin = bounds[::2]\n",
    "resampledPointsDims = np.array([300, 250, 150], dtype=int)\n",
    "resampledCellsDims = resampledPointsDims - 1\n",
    "resampledCellSpacing = (bounds[1::2] - bounds[:-1:2]) / resampledCellsDims"
   ]
  },
  {
   "cell_type": "code",
   "execution_count": 6,
   "metadata": {},
   "outputs": [],
   "source": [
    "# ----------- grass -----------------------\n",
    "extractorGrass = vtk.vtkExtractGrid()\n",
    "extractorGrass.SetInputData(dataset)\n",
    "extractorGrass.SetVOI(extent[0], extent[1], extent[2], extent[3], 0, 10)\n",
    "extractorGrass.Update()\n",
    "datasetGrass = extractorGrass.GetOutput()    \n",
    "grassBounds = np.array(datasetGrass.GetBounds())\n",
    "grassPointsDims = np.array([300, 250, 200], dtype=int)\n",
    "grassCellsDims = grassPointsDims - 1\n",
    "grassCellSpacing = (grassBounds[1::2] - grassBounds[:-1:2]) / grassCellsDims\n",
    "resamplerGrass = vtk.vtkResampleToImage()\n",
    "resamplerGrass.AddInputDataObject(datasetGrass)\n",
    "resamplerGrass.SetSamplingDimensions(grassPointsDims)  ### set for #points\n",
    "resamplerGrass.SetSamplingBounds(bounds)\n",
    "resamplerGrass.Update()\n",
    "grassVtkArray = resamplerGrass.GetOutput().GetPointData().GetArray('rhof_1')\n",
    "grassImage = vtkArray2vtkImageData(grassVtkArray, resampledOrigin, grassPointsDims, grassCellSpacing)\n"
   ]
  },
  {
   "cell_type": "code",
   "execution_count": null,
   "metadata": {},
   "outputs": [
    {
     "ename": "NameError",
     "evalue": "name 'os' is not defined",
     "output_type": "error",
     "traceback": [
      "\u001b[1;31m---------------------------------------------------------------------------\u001b[0m",
      "\u001b[1;31mNameError\u001b[0m                                 Traceback (most recent call last)",
      "Cell \u001b[1;32mIn[8], line 3\u001b[0m\n\u001b[0;32m      1\u001b[0m \u001b[38;5;66;03m# TODO: another way to avoid this preprocess\u001b[39;00m\n\u001b[0;32m      2\u001b[0m rawDataset \u001b[38;5;241m=\u001b[39m vtk\u001b[38;5;241m.\u001b[39mvtkXMLStructuredGridReader()\n\u001b[1;32m----> 3\u001b[0m rawDataset\u001b[38;5;241m.\u001b[39mSetFileName(\u001b[43mos\u001b[49m\u001b[38;5;241m.\u001b[39mpath\u001b[38;5;241m.\u001b[39mjoin(datadir, \u001b[38;5;124m'\u001b[39m\u001b[38;5;124moutput.1000.vts\u001b[39m\u001b[38;5;124m'\u001b[39m))\n\u001b[0;32m      4\u001b[0m rawDataset\u001b[38;5;241m.\u001b[39mUpdate()\n\u001b[0;32m      6\u001b[0m extractor \u001b[38;5;241m=\u001b[39m vtk\u001b[38;5;241m.\u001b[39mvtkExtractGrid()\n",
      "\u001b[1;31mNameError\u001b[0m: name 'os' is not defined"
     ]
    }
   ],
   "source": [
    "# Create a mapper\n",
    "mapper = vtk.vtkDataSetMapper()\n",
    "mapper.SetInputData(grassImage)\n",
    "\n",
    "# Create an actor\n",
    "actor = vtk.vtkActor()\n",
    "actor.SetMapper(mapper)\n",
    "\n",
    "# Create a renderer, render window, and interactor\n",
    "renderer = vtk.vtkRenderer()\n",
    "renderWindow = vtk.vtkRenderWindow()\n",
    "renderWindow.AddRenderer(renderer)\n",
    "renderWindowInteractor = vtk.vtkRenderWindowInteractor()\n",
    "renderWindowInteractor.SetRenderWindow(renderWindow)\n",
    "\n",
    "# Add the actor to the scene\n",
    "renderer.AddActor(actor)\n",
    "renderer.SetBackground(0.1, 0.2, 0.4)  # Background color\n",
    "\n",
    "# Render and interact\n",
    "renderWindow.Render()\n",
    "renderWindowInteractor.Start()"
   ]
  },
  {
   "cell_type": "code",
   "execution_count": null,
   "metadata": {},
   "outputs": [
    {
     "ename": "NameError",
     "evalue": "name 'extent' is not defined",
     "output_type": "error",
     "traceback": [
      "\u001b[1;31m---------------------------------------------------------------------------\u001b[0m",
      "\u001b[1;31mNameError\u001b[0m                                 Traceback (most recent call last)",
      "Cell \u001b[1;32mIn[2], line 14\u001b[0m\n\u001b[0;32m     12\u001b[0m extractor \u001b[38;5;241m=\u001b[39m vtk\u001b[38;5;241m.\u001b[39mvtkExtractGrid()\n\u001b[0;32m     13\u001b[0m extractor\u001b[38;5;241m.\u001b[39mSetInputConnection(rawDataset\u001b[38;5;241m.\u001b[39mGetOutputPort())\n\u001b[1;32m---> 14\u001b[0m extractor\u001b[38;5;241m.\u001b[39mSetVOI(\u001b[43mextent\u001b[49m[\u001b[38;5;241m0\u001b[39m], extent[\u001b[38;5;241m1\u001b[39m], extent[\u001b[38;5;241m2\u001b[39m], extent[\u001b[38;5;241m3\u001b[39m], \u001b[38;5;241m0\u001b[39m, \u001b[38;5;241m5\u001b[39m)\n\u001b[0;32m     15\u001b[0m extractor\u001b[38;5;241m.\u001b[39mUpdate()\n\u001b[0;32m     17\u001b[0m soilSurface \u001b[38;5;241m=\u001b[39m renderSurface(renderer, extractor\u001b[38;5;241m.\u001b[39mGetOutput(), dataset, \u001b[38;5;124m'\u001b[39m\u001b[38;5;124msoil\u001b[39m\u001b[38;5;124m'\u001b[39m)\n",
      "\u001b[1;31mNameError\u001b[0m: name 'extent' is not defined"
     ]
    },
    {
     "ename": "",
     "evalue": "",
     "output_type": "error",
     "traceback": [
      "\u001b[1;31mThe Kernel crashed while executing code in the current cell or a previous cell. \n",
      "\u001b[1;31mPlease review the code in the cell(s) to identify a possible cause of the failure. \n",
      "\u001b[1;31mClick <a href='https://aka.ms/vscodeJupyterKernelCrash'>here</a> for more info. \n",
      "\u001b[1;31mView Jupyter <a href='command:jupyter.viewOutput'>log</a> for further details."
     ]
    }
   ],
   "source": [
    "from render import renderSurface\n",
    "import os\n",
    "import vtk\n",
    "\n",
    "renderer = vtk.vtkRenderer()\n",
    "\n",
    "\n",
    "rawDataset = vtk.vtkXMLStructuredGridReader()\n",
    "rawDataset.SetFileName(os.path.join(\"data/preprocessed/\", 'output.1000.vts'))\n",
    "rawDataset.Update()\n",
    "\n",
    "extractor = vtk.vtkExtractGrid()\n",
    "extractor.SetInputConnection(rawDataset.GetOutputPort())\n",
    "extractor.SetVOI(extent[0], extent[1], extent[2], extent[3], 0, 5)\n",
    "extractor.Update()\n",
    "\n",
    "soilSurface = renderSurface(renderer, extractor.GetOutput(), dataset, 'soil')\n"
   ]
  }
 ],
 "metadata": {
  "kernelspec": {
   "display_name": "tmp_env",
   "language": "python",
   "name": "python3"
  },
  "language_info": {
   "codemirror_mode": {
    "name": "ipython",
    "version": 3
   },
   "file_extension": ".py",
   "mimetype": "text/x-python",
   "name": "python",
   "nbconvert_exporter": "python",
   "pygments_lexer": "ipython3",
   "version": "3.12.6"
  }
 },
 "nbformat": 4,
 "nbformat_minor": 2
}
