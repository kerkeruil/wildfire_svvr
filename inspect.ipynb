{
 "cells": [
  {
   "cell_type": "code",
   "execution_count": 1,
   "metadata": {},
   "outputs": [],
   "source": [
    "import vtk\n",
    "import matplotlib as plt\n",
    "reader = vtk.vtkXMLStructuredGridReader()\n",
    "reader.SetFileName(\"data/output.1000.vts\")\n",
    "reader.Update()\n",
    "data = reader.GetOutput()\n",
    "point_data = data.GetPointData()\n"
   ]
  },
  {
   "cell_type": "code",
   "execution_count": 2,
   "metadata": {},
   "outputs": [
    {
     "name": "stdout",
     "output_type": "stream",
     "text": [
      "Loaded dataset with: 18300000 points\n",
      "\n",
      "Columns:\n",
      "u\n",
      "v\n",
      "w\n",
      "theta\n",
      "O2\n",
      "rhowatervapor\n",
      "rhof_1\n",
      "convht_1\n",
      "frhosiesrad_1\n"
     ]
    }
   ],
   "source": [
    "print(\"Loaded dataset with:\", data.GetNumberOfPoints(), \"points\")\n",
    "print(\"\\nColumns:\")\n",
    "for i in range(point_data.GetNumberOfArrays()):\n",
    "    print(point_data.GetArrayName(i))"
   ]
  },
  {
   "cell_type": "markdown",
   "metadata": {},
   "source": [
    "## Succesfull visualizations"
   ]
  },
  {
   "cell_type": "code",
   "execution_count": null,
   "metadata": {},
   "outputs": [],
   "source": [
    "\n",
    "import importlib\n",
    "import surface_renderV2\n",
    "import o2_renderer\n",
    "import wind_renderer\n",
    "importlib.reload(surface_renderV2)\n",
    "importlib.reload(o2_renderer)\n",
    "importlib.reload(wind_renderer)\n",
    "\n",
    "from surface_renderV2 import create_surface_actor\n",
    "from o2_renderer import create_o2_actor\n",
    "from wind_renderer import create_wind_actor\n",
    "from utils import render\n",
    "\n",
    "\n",
    "surface_actor = create_surface_actor()\n",
    "o2_actor = create_o2_actor(subsample_fraction=0.1)\n",
    "wind_actor = create_wind_actor()\n",
    "\n",
    "render([surface_actor, o2_actor, wind_actor])\n"
   ]
  },
  {
   "cell_type": "code",
   "execution_count": null,
   "metadata": {},
   "outputs": [],
   "source": [
    "render([wind_actor])\n"
   ]
  }
 ],
 "metadata": {
  "kernelspec": {
   "display_name": "tmp_env",
   "language": "python",
   "name": "python3"
  },
  "language_info": {
   "codemirror_mode": {
    "name": "ipython",
    "version": 3
   },
   "file_extension": ".py",
   "mimetype": "text/x-python",
   "name": "python",
   "nbconvert_exporter": "python",
   "pygments_lexer": "ipython3",
   "version": "3.12.6"
  }
 },
 "nbformat": 4,
 "nbformat_minor": 2
}
