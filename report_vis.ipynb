{
 "cells": [
  {
   "cell_type": "code",
   "execution_count": 2,
   "metadata": {},
   "outputs": [],
   "source": [
    "import numpy\n",
    "import os\n",
    "rep_dir = \"data/report_visualizations/\"\n",
    "\n",
    "os.makedirs(rep_dir, exist_ok=True)"
   ]
  },
  {
   "cell_type": "markdown",
   "metadata": {},
   "source": [
    "### Get samples from animation"
   ]
  },
  {
   "cell_type": "code",
   "execution_count": 3,
   "metadata": {},
   "outputs": [],
   "source": [
    "import shutil\n",
    "\n",
    "def sample_from_dir(src_dir, dest_dir):\n",
    "    os.makedirs(dest_dir, exist_ok=True)\n",
    "    image_files = os.listdir(src_dir)\n",
    "    sorted_image_files = sorted(image_files, key=lambda x: int(x.split(\".\")[0]))\n",
    "\n",
    "    first_image = sorted_image_files[0]\n",
    "    middle_image = sorted_image_files[len(image_files) // 2]\n",
    "    last_image = sorted_image_files[-1]\n",
    "\n",
    "    # Copy selected images to the report directory\n",
    "    for img, name in zip([first_image, middle_image, last_image], [\"first\", \"middle\", \"last\"]):\n",
    "        shutil.copy(src_dir + img, dest_dir + name + \"_\" + src_dir.split(\"/\")[1] + \".png\")\n"
   ]
  },
  {
   "cell_type": "code",
   "execution_count": 4,
   "metadata": {},
   "outputs": [],
   "source": [
    "sample_from_dir(\"data/side_frames_40/\", rep_dir + \"side_frames_40/\")\n",
    "sample_from_dir(\"data/side_frames_320/\", rep_dir + \"side_frames_320/\")\n",
    "sample_from_dir(\"data/topdown_frames_40/\", rep_dir + \"topdown_frames_40/\")\n",
    "sample_from_dir(\"data/topdown_frames_320/\", rep_dir + \"topdown_frames_320/\")"
   ]
  }
 ],
 "metadata": {
  "kernelspec": {
   "display_name": "tmp_env",
   "language": "python",
   "name": "python3"
  },
  "language_info": {
   "codemirror_mode": {
    "name": "ipython",
    "version": 3
   },
   "file_extension": ".py",
   "mimetype": "text/x-python",
   "name": "python",
   "nbconvert_exporter": "python",
   "pygments_lexer": "ipython3",
   "version": "3.12.6"
  }
 },
 "nbformat": 4,
 "nbformat_minor": 2
}
