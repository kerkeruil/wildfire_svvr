{
 "cells": [
  {
   "cell_type": "markdown",
   "metadata": {},
   "source": [
    "### Imports"
   ]
  },
  {
   "cell_type": "code",
   "execution_count": 1,
   "metadata": {},
   "outputs": [],
   "source": [
    "import vtk"
   ]
  },
  {
   "cell_type": "markdown",
   "metadata": {},
   "source": [
    "### Read in file"
   ]
  },
  {
   "cell_type": "code",
   "execution_count": null,
   "metadata": {},
   "outputs": [],
   "source": [
    "reader = vtk.vtkXMLStructuredGridReader()\n",
    "reader.SetFileName(\"data/output.1000.vts\")\n",
    "reader.Update()"
   ]
  },
  {
   "cell_type": "code",
   "execution_count": 3,
   "metadata": {},
   "outputs": [
    {
     "name": "stdout",
     "output_type": "stream",
     "text": [
      "Loaded dataset with: 18300000 points\n"
     ]
    }
   ],
   "source": [
    "data = reader.GetOutput()\n",
    "print(\"Loaded dataset with:\", data.GetNumberOfPoints(), \"points\")"
   ]
  },
  {
   "cell_type": "code",
   "execution_count": 7,
   "metadata": {},
   "outputs": [
    {
     "name": "stdout",
     "output_type": "stream",
     "text": [
      "u\n",
      "v\n",
      "w\n",
      "theta\n",
      "O2\n",
      "rhowatervapor\n",
      "rhof_1\n",
      "convht_1\n",
      "frhosiesrad_1\n"
     ]
    }
   ],
   "source": [
    "point_data = data.GetPointData()\n",
    "for i in range(point_data.GetNumberOfArrays()):\n",
    "    print(point_data.GetArrayName(i))"
   ]
  }
 ],
 "metadata": {
  "kernelspec": {
   "display_name": "test_env",
   "language": "python",
   "name": "python3"
  },
  "language_info": {
   "codemirror_mode": {
    "name": "ipython",
    "version": 3
   },
   "file_extension": ".py",
   "mimetype": "text/x-python",
   "name": "python",
   "nbconvert_exporter": "python",
   "pygments_lexer": "ipython3",
   "version": "3.13.0"
  }
 },
 "nbformat": 4,
 "nbformat_minor": 2
}
